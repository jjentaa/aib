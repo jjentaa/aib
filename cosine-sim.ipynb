{
 "cells": [
  {
   "cell_type": "code",
   "execution_count": 1,
   "metadata": {},
   "outputs": [],
   "source": [
    "from sklearn.model_selection import train_test_split\n",
    "import numpy as np\n",
    "import pandas as pd\n",
    "import torch\n",
    "import matplotlib.pyplot as plt\n",
    "from imageio import imread"
   ]
  },
  {
   "cell_type": "code",
   "execution_count": 2,
   "metadata": {},
   "outputs": [],
   "source": [
    "df = pd.read_csv(\"data/df.csv\")"
   ]
  },
  {
   "cell_type": "code",
   "execution_count": 3,
   "metadata": {},
   "outputs": [],
   "source": [
    "n = 5000"
   ]
  },
  {
   "cell_type": "code",
   "execution_count": 24,
   "metadata": {},
   "outputs": [],
   "source": [
    "all_q = []\n",
    "all_des = []\n",
    "all_title = []\n",
    "all_index = []\n",
    "\n",
    "for i in range(n):\n",
    "    if(\"(Novel)\" in df.loc[i, \"title\"] or \"(Light Novel)\" in df.loc[i, \"title\"] or \"(Webcomic)\" in df.loc[i, \"title\"] or \"(Doujinshi)\" in df.loc[i, \"title\"]):\n",
    "        continue\n",
    "    if(df.loc[i, \"q\"]):\n",
    "        all_q.append(df.loc[i, \"q\"].split('\\n')[0])\n",
    "        all_des.append(str(df.loc[i, \"description\"]))\n",
    "        all_title.append(str(df.loc[i, \"title\"]))\n",
    "        all_index.append(i)"
   ]
  },
  {
   "cell_type": "code",
   "execution_count": 5,
   "metadata": {},
   "outputs": [
    {
     "name": "stderr",
     "output_type": "stream",
     "text": [
      "/Users/madness/Desktop/manga-recommendation/env/lib/python3.8/site-packages/tqdm/auto.py:21: TqdmWarning: IProgress not found. Please update jupyter and ipywidgets. See https://ipywidgets.readthedocs.io/en/stable/user_install.html\n",
      "  from .autonotebook import tqdm as notebook_tqdm\n"
     ]
    }
   ],
   "source": [
    "from sentence_transformers import SentenceTransformer, util\n",
    "model = SentenceTransformer('all-MiniLM-L6-v2')"
   ]
  },
  {
   "cell_type": "code",
   "execution_count": 16,
   "metadata": {},
   "outputs": [],
   "source": [
    "model.save(\"model/models\")"
   ]
  },
  {
   "cell_type": "code",
   "execution_count": 6,
   "metadata": {},
   "outputs": [],
   "source": [
    "embeddings_des = model.encode(all_des, convert_to_tensor=True)"
   ]
  },
  {
   "cell_type": "code",
   "execution_count": 7,
   "metadata": {},
   "outputs": [],
   "source": [
    "torch.save(embeddings_des, \"data/embeddings_des.pt\")"
   ]
  },
  {
   "cell_type": "code",
   "execution_count": 8,
   "metadata": {},
   "outputs": [],
   "source": [
    "embeddings_des = torch.load(\"data/embeddings_des.pt\")"
   ]
  },
  {
   "cell_type": "code",
   "execution_count": 9,
   "metadata": {},
   "outputs": [
    {
     "data": {
      "text/plain": [
       "tensor([[-0.0764, -0.0286, -0.0090,  ...,  0.0280, -0.0281,  0.0467],\n",
       "        [-0.0447,  0.0627, -0.0609,  ..., -0.0362,  0.0145, -0.0067],\n",
       "        [ 0.0194,  0.1176, -0.0242,  ..., -0.0544,  0.0220,  0.0003],\n",
       "        ...,\n",
       "        [ 0.0158,  0.0444, -0.0221,  ..., -0.0364,  0.0448,  0.0304],\n",
       "        [-0.0974, -0.0387, -0.0111,  ...,  0.0098, -0.0145,  0.0147],\n",
       "        [-0.0500, -0.0670,  0.0436,  ..., -0.0264, -0.0468, -0.0197]])"
      ]
     },
     "execution_count": 9,
     "metadata": {},
     "output_type": "execute_result"
    }
   ],
   "source": [
    "embeddings_des"
   ]
  },
  {
   "cell_type": "code",
   "execution_count": 32,
   "metadata": {},
   "outputs": [],
   "source": [
    "val_q = all_q"
   ]
  },
  {
   "cell_type": "code",
   "execution_count": 33,
   "metadata": {},
   "outputs": [],
   "source": [
    "all_val_q = []\n",
    "label = []\n",
    "for i in range(len(val_q)):\n",
    "    embedding_q = model.encode(val_q[i], convert_to_tensor=True)\n",
    "    idxx = all_q.index(val_q[i])\n",
    "    label.append(idxx)\n",
    "    all_val_q.append(embedding_q)"
   ]
  },
  {
   "cell_type": "code",
   "execution_count": 56,
   "metadata": {},
   "outputs": [],
   "source": [
    "query = input(\"Enter query :\")"
   ]
  },
  {
   "cell_type": "code",
   "execution_count": 57,
   "metadata": {},
   "outputs": [],
   "source": [
    "query_en = model.encode(query, convert_to_tensor=True)"
   ]
  },
  {
   "cell_type": "code",
   "execution_count": 58,
   "metadata": {},
   "outputs": [
    {
     "name": "stdout",
     "output_type": "stream",
     "text": [
      "tensor([3154, 3719, 2632, 3987,  312])\n",
      "name : Border\n",
      "name : The New Kindaichi Files\n",
      "name : Tantei Xeno to Nanatsu no Satsujin Misshitsu\n",
      "name : Kechonpa\n",
      "name : Brutal: Satsujin Keisatsukan no Kokuhaku\n"
     ]
    }
   ],
   "source": [
    "import matplotlib.pyplot as plt\n",
    "import matplotlib.image as mpimg\n",
    "cosine_scores = util.cos_sim(query_en, embeddings_des)\n",
    "\n",
    "all_idx = torch.topk(cosine_scores.flatten(), 5).indices\n",
    "print(all_idx)\n",
    "for i in all_idx:\n",
    "    print(\"name :\", df.loc[all_index[int(i)], \"title\"])\n",
    "    img_url = df.loc[int(i), \"cover\"]\n",
    "    # img = imread(img_url)\n",
    "    # plt.imshow(img)\n",
    "    # plt.show()"
   ]
  },
  {
   "cell_type": "code",
   "execution_count": 61,
   "metadata": {},
   "outputs": [],
   "source": [
    "acc = 0\n",
    "n_val = len(all_val_q)\n",
    "topk = 5\n",
    "\n",
    "for i in range(n_val):\n",
    "    cosine_scores = util.cos_sim(all_val_q[i], embeddings_des)\n",
    "    #print(len(cosine_scores[0]))\n",
    "    #max_val = max(cosine_scores[0])\n",
    "    all_idx = torch.topk(cosine_scores.flatten(), topk).indices\n",
    "    ans = []\n",
    "    for i in all_idx:\n",
    "        ans.append(all_index[int(i)])\n",
    "\n",
    "    #check idex in all_des==idx\n",
    "    if(all_index[label[i]] in ans):\n",
    "        acc += 1"
   ]
  },
  {
   "cell_type": "code",
   "execution_count": 62,
   "metadata": {},
   "outputs": [
    {
     "name": "stdout",
     "output_type": "stream",
     "text": [
      "acc = 0.9818353385232366\n"
     ]
    }
   ],
   "source": [
    "print(\"acc =\", acc/len(all_val_q))"
   ]
  }
 ],
 "metadata": {
  "kernelspec": {
   "display_name": "env",
   "language": "python",
   "name": "python3"
  },
  "language_info": {
   "codemirror_mode": {
    "name": "ipython",
    "version": 3
   },
   "file_extension": ".py",
   "mimetype": "text/x-python",
   "name": "python",
   "nbconvert_exporter": "python",
   "pygments_lexer": "ipython3",
   "version": "3.8.8"
  },
  "orig_nbformat": 4
 },
 "nbformat": 4,
 "nbformat_minor": 2
}
